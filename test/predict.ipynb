{
 "cells": [
  {
   "cell_type": "code",
   "execution_count": 2,
   "metadata": {
    "collapsed": false
   },
   "outputs": [
    {
     "name": "stdout",
     "output_type": "stream",
     "text": [
      "Loading data..\n",
      "Data loaded !\n",
      "288/300 [===========================>..] - ETA: 0s                 precision    recall  f1-score   support\n",
      "\n",
      " class 0(BIKES)       1.00      0.09      0.16       300\n",
      "  class 1(CARS)       0.00      0.00      0.00         0\n",
      "class 2(HORSES)       0.00      0.00      0.00         0\n",
      "              3       0.00      0.00      0.00         0\n",
      "              3       0.00      0.00      0.00         0\n",
      "              3       0.00      0.00      0.00         0\n",
      "              3       0.00      0.00      0.00         0\n",
      "              3       0.00      0.00      0.00         0\n",
      "              3       0.00      0.00      0.00         0\n",
      "              3       0.00      0.00      0.00         0\n",
      "\n",
      "    avg / total       1.00      0.09      0.16       300\n",
      "\n",
      "[[26 30 32 28 32 32 34 27 25 34]\n",
      " [ 0  0  0  0  0  0  0  0  0  0]\n",
      " [ 0  0  0  0  0  0  0  0  0  0]\n",
      " [ 0  0  0  0  0  0  0  0  0  0]\n",
      " [ 0  0  0  0  0  0  0  0  0  0]\n",
      " [ 0  0  0  0  0  0  0  0  0  0]\n",
      " [ 0  0  0  0  0  0  0  0  0  0]\n",
      " [ 0  0  0  0  0  0  0  0  0  0]\n",
      " [ 0  0  0  0  0  0  0  0  0  0]\n",
      " [ 0  0  0  0  0  0  0  0  0  0]]\n"
     ]
    },
    {
     "name": "stderr",
     "output_type": "stream",
     "text": [
      "/home/machine/anaconda2/lib/python2.7/site-packages/sklearn/metrics/classification.py:1115: UndefinedMetricWarning: Recall and F-score are ill-defined and being set to 0.0 in labels with no true samples.\n",
      "  'recall', 'true', average, warn_for)\n"
     ]
    }
   ],
   "source": [
    "import numpy as np\n",
    "import scipy.misc\n",
    "from keras.models import model_from_json\n",
    "from sklearn.model_selection import train_test_split\n",
    "from keras.optimizers import SGD, Adam, RMSprop\n",
    "import matplotlib.pyplot as plt\n",
    "\n",
    "\n",
    "from sklearn.metrics import classification_report,confusion_matrix\n",
    "try:\n",
    "    import cPickle as pickle\n",
    "except:\n",
    "    import pickle\n",
    "    \n",
    "seed = 7\n",
    "np.random.seed(seed)\n",
    "    \n",
    "def load_data():\n",
    "    # load your data using this function\n",
    "    f = open(\"../dataset/myfood10-224.pkl\", 'rb')\n",
    "    d = pickle.load(f)\n",
    "    data = d['trainFeatures']\n",
    "    labels = d['trainLabels']\n",
    "    lz = d['labels']\n",
    "    data = data.reshape(data.shape[0], 3, 224, 224)\n",
    "    #data = data.transpose(0, 2, 3, 1)\n",
    "\n",
    "    return data,labels,lz\n",
    "\n",
    "def load_model(model_def_fname, model_weight_fname):\n",
    "   model = model_from_json(open(model_def_fname).read())\n",
    "   model.load_weights(model_weight_fname)\n",
    "   return model\n",
    "\n",
    "train_data = np.load(open('bottleneck_features_train.npy' , 'rb'))\n",
    "train_labels = np.array([0] * (1600 / 10) + [10] * (1600 / 2))\n",
    "\n",
    "\n",
    "validation_data = np.load(open('bottleneck_features_validation.npy', 'rb'))\n",
    "validation_labels = np.array([0] * (300 / 2) + [1] * (300 / 2))\n",
    "\n",
    "\n",
    "print \"Loading data..\"\n",
    "data, labels, lz = load_data()\n",
    "data = data.astype('float32')\n",
    "data /= 255\n",
    "lz = np.array(lz)\n",
    "print \"Data loaded !\"\n",
    "\n",
    "X_train, X_test, y_train, y_test = train_test_split(data, labels, test_size=0.15, random_state=seed)\n",
    "\n",
    "    \n",
    "model = load_model('model/test_model.json', 'bottleneck_fc_model.h5')\n",
    "#model.summary()\n",
    "\n",
    "# train\n",
    "optim = RMSprop()\n",
    "#optim = SGD(lr=0.01, decay=1e-6, momentum=0.9, nesterov=True)\n",
    "model.compile(optimizer='rmsprop', loss='binary_crossentropy', metrics=['accuracy'])\n",
    " \n",
    "model.pop()\n",
    "model.pop()\n",
    "model.pop()\n",
    "\n",
    "bottleneck_features_train = model.predict(X_train, batch_size=32)\n",
    "#np.save(open('bottleneck_features_train.npy', 'wb'), bottleneck_features_train)\n",
    "\n",
    "\n",
    "bottleneck_features_validation = model.predict(X_test, batch_size=32)\n",
    "#np.save(open('bottleneck_features_validation.npy', 'wb'), bottleneck_features_validation)\n",
    "\n"
   ]
  },
  {
   "cell_type": "code",
   "execution_count": null,
   "metadata": {
    "collapsed": true
   },
   "outputs": [],
   "source": []
  }
 ],
 "metadata": {
  "anaconda-cloud": {},
  "kernelspec": {
   "display_name": "Python [conda root]",
   "language": "python",
   "name": "conda-root-py"
  },
  "language_info": {
   "codemirror_mode": {
    "name": "ipython",
    "version": 2
   },
   "file_extension": ".py",
   "mimetype": "text/x-python",
   "name": "python",
   "nbconvert_exporter": "python",
   "pygments_lexer": "ipython2",
   "version": "2.7.10"
  }
 },
 "nbformat": 4,
 "nbformat_minor": 1
}
