{
 "cells": [
  {
   "cell_type": "code",
   "execution_count": 13,
   "metadata": {
    "collapsed": false
   },
   "outputs": [
    {
     "name": "stdout",
     "output_type": "stream",
     "text": [
      "AngKuKueh\n",
      "AisKacang\n",
      "2\n",
      "Total train set:  400\n",
      "Total train label:  400\n",
      "Dumped pkl into ../dataset/myfood2-150.pkl\n"
     ]
    }
   ],
   "source": [
    "from PIL import Image\n",
    "from skimage import color, exposure\n",
    "from skimage.feature import hog\n",
    "from skimage.transform import resize\n",
    "from scipy.misc import imshow\n",
    "from glob import glob\n",
    "import skimage.io as io\n",
    "import numpy as np\n",
    "import scipy.misc\n",
    "import cv2\n",
    "import random\n",
    "import matplotlib.pyplot as plt\n",
    "import os\n",
    "import gzip\n",
    "from keras.utils import np_utils\n",
    "\n",
    "try:\n",
    "    import cPickle as pickle\n",
    "except:\n",
    "    import pickle\n",
    "\n",
    "#Directory containing images you wish to convert\n",
    "input_dir = \"../dataset/food2\"\n",
    "\n",
    "directories = os.listdir(input_dir)\n",
    "\n",
    "index = 0\n",
    "index2 = 0\n",
    "labels = []\n",
    "\n",
    "for folder in directories:\n",
    "\t#Ignoring .DS_Store dir\n",
    "\tif folder == '.DS_Store':\n",
    "\t\tpass\n",
    "\n",
    "\telse:\n",
    "\t\tprint folder\n",
    "\n",
    "\t\tfolder2 = os.listdir(input_dir + '/' + folder)\n",
    "\n",
    "\n",
    "\t\tfor image in folder2:\n",
    "\t\t\tif image == \".DS_Store\":\n",
    "\t\t\t\tpass\n",
    "\n",
    "\t\t\telse:\n",
    "\t\t\t\tindex2 += 1\n",
    "\n",
    "\n",
    " \t\t\t\tim = scipy.misc.imresize(scipy.misc.imread(input_dir+\"/\"+folder+\"/\"+image), (150, 150)) \n",
    "  \t\t\t\t#print image\n",
    "\t\t\t\t#im = (np.array(im)) #Converting to numpy array\n",
    "\n",
    "\t\t\t\ttry:\n",
    "\t\t\t\t\tr = im[:,:,0].flatten() #Slicing to get R data\n",
    "\t\t\t\t\tg = im[:,:,1].flatten() #Slicing to get G data\n",
    "\t\t\t\t\tb = im[:,:,2].flatten() #Slicing to get B data\n",
    "\n",
    "\t\t\t\t\tif index2 != 1:\n",
    "\t\t\t\t\t\tnew_array = np.array([[r] + [g] + [b]], np.uint8) #Creating array with shape (3, 100, 100)\n",
    "\t\t\t\t\t\tout = np.append(out, new_array, 0) #Adding new image to array shape of (x, 3, 100, 100) where x is image number\n",
    "\n",
    "\t\t\t\t\telif index2 == 1:\n",
    "\t\t\t\t\t\tout = np.array([[r] + [g] + [b]], np.uint8) #Creating array with shape (3, 100, 100)\n",
    "\n",
    "\t\t\t\t\tif index == 0 and index2 == 1:\n",
    "\t\t\t\t\t\tindex_array = np.array([[index]])\n",
    "\t\t\t\t\t\tlabels.append(index)\n",
    "\n",
    "\t\t\t\t\telse:\n",
    "\t\t\t\t\t\tnew_index_array = np.array([[index]], np.int8)\n",
    "\t\t\t\t\t\tindex_array = np.append(index_array, new_index_array, 0)\n",
    " \t\t\t\t\t\tlabels.append(index)\n",
    "                        \n",
    "\t\t\t\texcept Exception as e:\n",
    "\t\t\t\t\tprint e\n",
    "\t\t\t\t\tprint \"Removing image\" + image\n",
    "\t\t\t\t\tos.remove(input_dir+\"/\"+folder+\"/\"+image)\n",
    "\t\tindex += 1\n",
    "\n",
    "print index\n",
    "print \"Total train set: \", len(out)\n",
    "print \"Total train label: \" ,len(index_array)\n",
    "\n",
    "dataFile = '../dataset/myfood2-150.pkl'\n",
    "\n",
    "data={'trainFeatures':out, 'trainLabels':  index_array, 'labels': labels }\n",
    "\n",
    "pickle.dump((data), open(dataFile, \"wb\" ) )\n",
    "print(\"Dumped pkl into \"+dataFile)\n",
    "\n",
    "#np.save('X_train.npy', out) #Saving train image arrays\n",
    "#np.save('Y_train.npy', index_array) #Saving train labels"
   ]
  },
  {
   "cell_type": "code",
   "execution_count": 9,
   "metadata": {
    "collapsed": false
   },
   "outputs": [],
   "source": [
    "f = open(\"../dataset/myfood2-32.pkl\", 'rb')\n",
    "d = pickle.load(f)\n",
    "data = d['trainFeatures']\n",
    "labels = d['trainLabels']"
   ]
  },
  {
   "cell_type": "code",
   "execution_count": 12,
   "metadata": {
    "collapsed": false
   },
   "outputs": [],
   "source": [
    "im = np.reshape(data[1], (3,32,32), order='F')\n",
    "imshow(im)"
   ]
  },
  {
   "cell_type": "code",
   "execution_count": null,
   "metadata": {
    "collapsed": true
   },
   "outputs": [],
   "source": []
  }
 ],
 "metadata": {
  "anaconda-cloud": {},
  "kernelspec": {
   "display_name": "Python [conda root]",
   "language": "python",
   "name": "conda-root-py"
  },
  "language_info": {
   "codemirror_mode": {
    "name": "ipython",
    "version": 2
   },
   "file_extension": ".py",
   "mimetype": "text/x-python",
   "name": "python",
   "nbconvert_exporter": "python",
   "pygments_lexer": "ipython2",
   "version": "2.7.12"
  }
 },
 "nbformat": 4,
 "nbformat_minor": 1
}
