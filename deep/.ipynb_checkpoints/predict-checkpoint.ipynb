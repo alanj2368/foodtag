{
 "cells": [
  {
   "cell_type": "code",
   "execution_count": null,
   "metadata": {
    "collapsed": false
   },
   "outputs": [],
   "source": [
    "import numpy as np\n",
    "import scipy.misc\n",
    "from keras.models import model_from_json\n",
    "from sklearn.model_selection import train_test_split\n",
    "from keras.optimizers import SGD, Adam, RMSprop\n",
    "import matplotlib.pyplot as plt\n",
    "\n",
    "\n",
    "from sklearn.metrics import classification_report,confusion_matrix\n",
    "try:\n",
    "    import cPickle as pickle\n",
    "except:\n",
    "    import pickle\n",
    "    \n",
    "def load_data():\n",
    "    # load your data using this function\n",
    "    f = open(\"../dataset/myfood10-224.pkl\", 'rb')\n",
    "    d = pickle.load(f)\n",
    "    data = d['trainFeatures']\n",
    "    labels = d['trainLabels']\n",
    "    lz = d['labels']\n",
    "    data = data.reshape(data.shape[0], 3, 224, 224)\n",
    "    #data = data.transpose(0, 2, 3, 1)\n",
    "\n",
    "    return data,labels,lz\n",
    "\n",
    "def load_model(model_def_fname, model_weight_fname):\n",
    "   model = model_from_json(open(model_def_fname).read())\n",
    "   model.load_weights(model_weight_fname)\n",
    "   return model\n",
    "\n",
    "train_data = np.load(open('bottleneck_features_train.npy' , 'rb'))\n",
    "train_labels = np.array([0] * (1600 / 10) + [10] * (1600 / 2))\n",
    "\n",
    "\n",
    "validation_data = np.load(open('bottleneck_features_validation.npy', 'rb'))\n",
    "validation_labels = np.array([0] * (300 / 2) + [1] * (300 / 2))\n",
    "\n",
    "\n",
    "print \"Loading data..\"\n",
    "data, labels, lz = load_data()\n",
    "data = data.astype('float32')\n",
    "data /= 255\n",
    "lz = np.array(lz)\n",
    "print \"Data loaded !\"\n",
    "\n",
    "X_train, X_test, y_train, y_test = train_test_split(data, labels, test_size=0.15, random_state=seed)\n",
    "\n",
    "    \n",
    "model = load_model('model/test_model.json', 'bottleneck_fc_model.h5')\n",
    "#model.summary()\n",
    "\n",
    "# train\n",
    "optim = RMSprop()\n",
    "#optim = SGD(lr=0.01, decay=1e-6, momentum=0.9, nesterov=True)\n",
    "model.compile(optimizer='rmsprop', loss='binary_crossentropy', metrics=['accuracy'])\n",
    " \n",
    "y_proba = model.predict(validation_data)\n",
    "y_pred = model.predict_classes(validation_data)\n",
    "\n",
    "target_names = ['class 0(BIKES)', 'class 1(CARS)', 'class 2(HORSES)','3','3','3','3','3','3','3']\n",
    "print(classification_report(np.argmax(y_test,axis=1), y_pred,target_names=target_names))\n",
    "print(confusion_matrix(np.argmax(y_test,axis=1), y_pred))\n",
    "\n"
   ]
  },
  {
   "cell_type": "code",
   "execution_count": null,
   "metadata": {
    "collapsed": true
   },
   "outputs": [],
   "source": []
  }
 ],
 "metadata": {
  "anaconda-cloud": {},
  "kernelspec": {
   "display_name": "Python [conda root]",
   "language": "python",
   "name": "conda-root-py"
  }
 },
 "nbformat": 4,
 "nbformat_minor": 1
}
