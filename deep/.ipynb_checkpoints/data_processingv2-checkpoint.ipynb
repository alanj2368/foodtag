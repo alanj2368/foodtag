{
 "cells": [
  {
   "cell_type": "code",
   "execution_count": null,
   "metadata": {
    "collapsed": false
   },
   "outputs": [],
   "source": [
    "from PIL import Image\n",
    "from skimage import color, exposure\n",
    "from skimage.feature import hog\n",
    "from skimage.transform import resize\n",
    "from scipy.misc import imshow\n",
    "from glob import glob\n",
    "import skimage.io as io\n",
    "import numpy as np\n",
    "import scipy.misc\n",
    "import cv2\n",
    "import random\n",
    "import matplotlib.pyplot as plt\n",
    "import os\n",
    "import gzip\n",
    "from keras.utils import np_utils\n",
    "\n",
    "try:\n",
    "    import cPickle as pickle\n",
    "except:\n",
    "    import pickle\n",
    "\n",
    "#Directory containing images you wish to convert\n",
    "input_dir = \"../dataset/food10\"\n",
    "\n",
    "directories = os.listdir(input_dir)\n",
    "\n",
    "index = 0\n",
    "index2 = 0\n",
    "labels = []\n",
    "\n",
    "for folder in directories:\n",
    "\t#Ignoring .DS_Store dir\n",
    "\tif folder == '.DS_Store':\n",
    "\t\tpass\n",
    "\n",
    "\telse:\n",
    "\t\tprint folder\n",
    "\n",
    "\t\tfolder2 = os.listdir(input_dir + '/' + folder)\n",
    "\n",
    "\n",
    "\t\tfor image in folder2:\n",
    "\t\t\tif image == \".DS_Store\":\n",
    "\t\t\t\tpass\n",
    "\n",
    "\t\t\telse:\n",
    "\t\t\t\tindex2 += 1\n",
    "\n",
    "\n",
    " \t\t\t\tim = scipy.misc.imresize(scipy.misc.imread(input_dir+\"/\"+folder+\"/\"+image), (32, 32)) \n",
    "  \t\t\t\t#print image\n",
    "\t\t\t\t#im = (np.array(im)) #Converting to numpy array\n",
    "\n",
    "\t\t\t\ttry:\n",
    "\t\t\t\t\tr = im[:,:,0].flatten() #Slicing to get R data\n",
    "\t\t\t\t\tg = im[:,:,1].flatten() #Slicing to get G data\n",
    "\t\t\t\t\tb = im[:,:,2].flatten() #Slicing to get B data\n",
    "\n",
    "\t\t\t\t\tif index2 != 1:\n",
    "\t\t\t\t\t\tnew_array = np.array([[r] + [g] + [b]], np.uint8) #Creating array with shape (3, 100, 100)\n",
    "\t\t\t\t\t\tout = np.append(out, new_array, 0) #Adding new image to array shape of (x, 3, 100, 100) where x is image number\n",
    "\n",
    "\t\t\t\t\telif index2 == 1:\n",
    "\t\t\t\t\t\tout = np.array([[r] + [g] + [b]], np.uint8) #Creating array with shape (3, 100, 100)\n",
    "\n",
    "\t\t\t\t\tif index == 0 and index2 == 1:\n",
    "\t\t\t\t\t\tindex_array = np.array([[index]])\n",
    "\t\t\t\t\t\tlabels.append(index)\n",
    "\n",
    "\t\t\t\t\telse:\n",
    "\t\t\t\t\t\tnew_index_array = np.array([[index]], np.int8)\n",
    "\t\t\t\t\t\tindex_array = np.append(index_array, new_index_array, 0)\n",
    " \t\t\t\t\t\tlabels.append(index)\n",
    "                        \n",
    "\t\t\t\texcept Exception as e:\n",
    "\t\t\t\t\tprint e\n",
    "\t\t\t\t\tprint \"Removing image\" + image\n",
    "\t\t\t\t\tos.remove(input_dir+\"/\"+folder+\"/\"+image)\n",
    "\t\tindex += 1\n",
    "\n",
    "print index\n",
    "print \"Total train set: \", len(out)\n",
    "print \"Total train label: \" ,len(index_array)\n",
    "\n",
    "dataFile = '../dataset/myfood10-32.pkl'\n",
    "\n",
    "data={'trainFeatures':out, 'trainLabels':  index_array, 'labels': labels }\n",
    "\n",
    "pickle.dump((data), open(dataFile, \"wb\" ) )\n",
    "print(\"Dumped pkl into \"+dataFile)\n",
    "\n",
    "#np.save('X_train.npy', out) #Saving train image arrays\n",
    "#np.save('Y_train.npy', index_array) #Saving train labels"
   ]
  },
  {
   "cell_type": "code",
   "execution_count": 5,
   "metadata": {
    "collapsed": false
   },
   "outputs": [],
   "source": [
    "f = open(\"../dataset/myfood2-150.pkl\", 'rb')\n",
    "d = pickle.load(f)\n",
    "data = d['trainFeatures']\n",
    "labels = d['trainLabels']\n",
    "labels1 = d['labels']"
   ]
  },
  {
   "cell_type": "code",
   "execution_count": 4,
   "metadata": {
    "collapsed": false
   },
   "outputs": [],
   "source": [
    "im = np.reshape(data[1], (3,32,32), order='F')\n",
    "imshow(im)"
   ]
  },
  {
   "cell_type": "code",
   "execution_count": 28,
   "metadata": {
    "collapsed": false
   },
   "outputs": [
    {
     "ename": "AttributeError",
     "evalue": "'tuple' object has no attribute 'type'",
     "output_type": "error",
     "traceback": [
      "\u001b[0;31m---------------------------------------------------------------------------\u001b[0m",
      "\u001b[0;31mAttributeError\u001b[0m                            Traceback (most recent call last)",
      "\u001b[0;32m<ipython-input-28-aa20c43a60a9>\u001b[0m in \u001b[0;36m<module>\u001b[0;34m()\u001b[0m\n\u001b[1;32m      4\u001b[0m \u001b[0;31m#print labels1\u001b[0m\u001b[0;34m\u001b[0m\u001b[0;34m\u001b[0m\u001b[0m\n\u001b[1;32m      5\u001b[0m \u001b[0mlabels4\u001b[0m \u001b[0;34m=\u001b[0m \u001b[0mast\u001b[0m\u001b[0;34m.\u001b[0m\u001b[0mliteral_eval\u001b[0m\u001b[0;34m(\u001b[0m\u001b[0mlabels3\u001b[0m\u001b[0;34m)\u001b[0m\u001b[0;34m\u001b[0m\u001b[0m\n\u001b[0;32m----> 6\u001b[0;31m \u001b[0mlabels4\u001b[0m\u001b[0;34m.\u001b[0m\u001b[0mtype\u001b[0m\u001b[0;34m\u001b[0m\u001b[0m\n\u001b[0m",
      "\u001b[0;31mAttributeError\u001b[0m: 'tuple' object has no attribute 'type'"
     ]
    }
   ],
   "source": [
    "import ast\n",
    "labels2 = np.array(labels).tolist()\n",
    "labels3 = str(labels2).replace('.','').replace('[','').replace(']','')\n",
    "labels4 = ast.literal_eval(labels3)\n",
    "print data.shape"
   ]
  },
  {
   "cell_type": "code",
   "execution_count": null,
   "metadata": {
    "collapsed": true
   },
   "outputs": [],
   "source": []
  }
 ],
 "metadata": {
  "anaconda-cloud": {},
  "kernelspec": {
   "display_name": "Python [default]",
   "language": "python",
   "name": "python2"
  },
  "language_info": {
   "codemirror_mode": {
    "name": "ipython",
    "version": 2
   },
   "file_extension": ".py",
   "mimetype": "text/x-python",
   "name": "python",
   "nbconvert_exporter": "python",
   "pygments_lexer": "ipython2",
   "version": "2.7.12"
  }
 },
 "nbformat": 4,
 "nbformat_minor": 1
}
