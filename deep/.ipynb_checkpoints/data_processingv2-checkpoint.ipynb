{
 "cells": [
  {
   "cell_type": "code",
   "execution_count": null,
   "metadata": {
    "collapsed": false
   },
   "outputs": [
    {
     "name": "stderr",
     "output_type": "stream",
     "text": [
      "Using Theano backend.\n",
      "Using gpu device 0: GeForce GTX 1060 6GB (CNMeM is disabled, cuDNN 5105)\n"
     ]
    },
    {
     "name": "stdout",
     "output_type": "stream",
     "text": [
      "0 Murukku\n",
      "1 MeeHoonKueh\n",
      "2 BuburPedas\n",
      "3 Nasikandar\n",
      "4 Mangosteen\n",
      "5 KuihDadar\n",
      "6 BingkaUbi\n",
      "7 CharSiu\n",
      "8 Sataycelup\n",
      "9 Kangkung\n",
      "10 Cendol\n",
      "11 SeriMuka\n",
      "12 CheeCheongFun\n",
      "13 Bakkukteh\n",
      "14 Chweekueh\n",
      "15 KuihLapis\n",
      "16 DurianCrepe\n",
      "17 Lemang\n"
     ]
    }
   ],
   "source": [
    "from PIL import Image\n",
    "from skimage import color, exposure\n",
    "from skimage.feature import hog\n",
    "from skimage.transform import resize\n",
    "from scipy.misc import imshow\n",
    "from glob import glob\n",
    "import skimage.io as io\n",
    "import numpy as np\n",
    "import scipy.misc\n",
    "import cv2\n",
    "import random\n",
    "import matplotlib.pyplot as plt\n",
    "import os\n",
    "import gzip\n",
    "from keras.utils import np_utils\n",
    "\n",
    "try:\n",
    "    import cPickle as pickle\n",
    "except:\n",
    "    import pickle\n",
    "\n",
    "#Directory containing images you wish to convert\n",
    "input_dir = \"../dataset/food100\"\n",
    "\n",
    "directories = os.listdir(input_dir)\n",
    "\n",
    "index = 0\n",
    "index2 = 0\n",
    "labels = []\n",
    "\n",
    "for folder in directories:\n",
    "  #Ignoring .DS_Store dir\n",
    "  if folder == '.DS_Store':\n",
    "    pass\n",
    "\n",
    "  else:\n",
    "    print index, folder\n",
    "\n",
    "    folder2 = os.listdir(input_dir + '/' + folder)\n",
    "\n",
    "\n",
    "    for image in folder2:\n",
    "      if image == \".DS_Store\":\n",
    "        pass\n",
    "\n",
    "      else:\n",
    "        index2 += 1\n",
    "\n",
    "\n",
    "        im = scipy.misc.imresize(scipy.misc.imread(input_dir+\"/\"+folder+\"/\"+image), (227,227)) \n",
    "          #print image\n",
    "        #im = (np.array(im)) #Converting to numpy array\n",
    "\n",
    "        try:\n",
    "          r = im[:,:,0].flatten() #Slicing to get R data\n",
    "          g = im[:,:,1].flatten() #Slicing to get G data\n",
    "          b = im[:,:,2].flatten() #Slicing to get B data\n",
    "\n",
    "          if index2 != 1:\n",
    "            new_array = np.array([[r] + [g] + [b]], np.uint8) #Creating array with shape (3, 100, 100)\n",
    "            out = np.append(out, new_array, 0) #Adding new image to array shape of (x, 3, 100, 100) where x is image number\n",
    "\n",
    "          elif index2 == 1:\n",
    "            out = np.array([[r] + [g] + [b]], np.uint8) #Creating array with shape (3, 100, 100)\n",
    "\n",
    "          if index == 0 and index2 == 1:\n",
    "            index_array = np.array([[index]])\n",
    "            labels.append(index)\n",
    "\n",
    "          else:\n",
    "            new_index_array = np.array([[index]], np.int8)\n",
    "            index_array = np.append(index_array, new_index_array, 0)\n",
    "            labels.append(index)\n",
    "                        \n",
    "        except Exception as e:\n",
    "          print e\n",
    "          print \"Removing image\" + image\n",
    "          os.remove(input_dir+\"/\"+folder+\"/\"+image)\n",
    "    index += 1\n",
    "\n",
    "print index\n",
    "print \"Total train set: \", len(out)\n",
    "print \"Total train label: \" ,len(index_array)\n",
    "\n",
    "dataFile = '../dataset/myfood100-227.pkl'\n",
    "\n",
    "data={'trainFeatures':out, 'trainLabels':  index_array, 'labels': labels }\n",
    "\n",
    "pickle.dump((data), open(dataFile, \"wb\" ) )\n",
    "print(\"Dumped pkl into \"+dataFile)\n",
    "\n",
    "#np.save('X_train.npy', out) #Saving train image arrays\n",
    "#np.save('Y_train.npy', index_array) #Saving train labels"
   ]
  },
  {
   "cell_type": "code",
   "execution_count": 4,
   "metadata": {
    "collapsed": false
   },
   "outputs": [],
   "source": [
    "f = open(\"../dataset/myfood100-320.pkl\", 'rb')\n",
    "d = pickle.load(f)\n",
    "data = d['trainFeatures']\n",
    "labels = d['trainLabels']\n",
    "labels1 = d['labels']"
   ]
  },
  {
   "cell_type": "code",
   "execution_count": 4,
   "metadata": {
    "collapsed": false
   },
   "outputs": [],
   "source": [
    "im = np.reshape(data[1], (3,32,32), order='F')\n",
    "imshow(im)"
   ]
  },
  {
   "cell_type": "code",
   "execution_count": null,
   "metadata": {
    "collapsed": false
   },
   "outputs": [],
   "source": [
    "import ast\n",
    "labels2 = np.array(labels).tolist()\n",
    "labels3 = str(labels2).replace('.','').replace('[','').replace(']','')\n",
    "labels4 = ast.literal_eval(labels3)\n",
    "print data.shape"
   ]
  },
  {
   "cell_type": "code",
   "execution_count": null,
   "metadata": {
    "collapsed": true
   },
   "outputs": [],
   "source": []
  }
 ],
 "metadata": {
  "anaconda-cloud": {},
  "kernelspec": {
   "display_name": "Python [default]",
   "language": "python",
   "name": "python2"
  },
  "language_info": {
   "codemirror_mode": {
    "name": "ipython",
    "version": 2
   },
   "file_extension": ".py",
   "mimetype": "text/x-python",
   "name": "python",
   "nbconvert_exporter": "python",
   "pygments_lexer": "ipython2",
   "version": "2.7.12"
  }
 },
 "nbformat": 4,
 "nbformat_minor": 1
}
