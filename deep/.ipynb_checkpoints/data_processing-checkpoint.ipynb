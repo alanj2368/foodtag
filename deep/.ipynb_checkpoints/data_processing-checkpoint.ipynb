{
 "cells": [
  {
   "cell_type": "code",
   "execution_count": null,
   "metadata": {
    "collapsed": false
   },
   "outputs": [
    {
     "name": "stderr",
     "output_type": "stream",
     "text": [
      "Using Theano backend.\n",
      "Using gpu device 0: GeForce GTX 1060 6GB (CNMeM is disabled, cuDNN not available)\n"
     ]
    },
    {
     "name": "stdout",
     "output_type": "stream",
     "text": [
      "Total Class :  2\n",
      "\n",
      "\n",
      "Building :  ../dataset/food2\n"
     ]
    }
   ],
   "source": [
    "from PIL import Image\n",
    "from skimage import color, exposure\n",
    "from skimage.feature import hog\n",
    "from skimage.transform import resize\n",
    "from scipy.misc import imshow\n",
    "from glob import glob\n",
    "import skimage.io as io\n",
    "import numpy as np\n",
    "import scipy.misc\n",
    "import cv2\n",
    "import random\n",
    "import matplotlib.pyplot as plt\n",
    "import os\n",
    "import gzip\n",
    "from keras.utils import np_utils\n",
    "\n",
    "try:\n",
    "    import cPickle as pickle\n",
    "except:\n",
    "    import pickle\n",
    "\n",
    "#init\n",
    "dsdir=\"../dataset\"\n",
    "imagetype=\"*\"\n",
    "train_set_dirname=\"food2\"\n",
    "#test_set_dirname=\"test\"\n",
    "traindir = dsdir + '/' + train_set_dirname\n",
    "#testdir = dsdir + '/' + test_set_dirname\n",
    "#dirs = [traindir, testdir, validdir]\n",
    "#dirs = [traindir, testdir]\n",
    "dirs = [traindir]\n",
    "classcount = 0\n",
    "classes = {}\n",
    "img = None\n",
    "imgtype=\"*\"\n",
    "trainFeatures = []\n",
    "testFeatures = []\n",
    "trainLabels = []\n",
    "testLabels = []\n",
    "\n",
    "\n",
    "'''\n",
    "clsNames = ['AisKacang' , 'AngKuKueh' , 'ApamBalik' , 'Asamlaksa' , 'Bahulu' , 'Bakkukteh',\n",
    " 'BananaLeafRice' , 'Bazhang' , 'BeefRendang' , 'BingkaUbi' , 'Buburchacha',\n",
    " 'Buburpedas' , 'Capati' , 'Cendol' , 'ChaiTowKuay' , 'CharKuehTiao' , 'CharSiu',\n",
    " 'CheeCheongFun' , 'ChiliCrab' , 'Chweekueh' , 'ClayPotRice' , 'CucurUdang',\n",
    " 'CurryLaksa' , 'CurryPuff' , 'Dodol' , 'Durian' , 'DurianCrepe' , 'FishHeadCurry',\n",
    " 'Guava' , 'HainaneseChickenRice' , 'HokkienMee' , 'Huatkuih' , 'IkanBakar',\n",
    " 'Kangkung' , 'KayaToast' , 'Keklapis' , 'Ketupat' , 'KuihDadar' , 'KuihLapis',\n",
    " 'KuihSeriMuka' , 'Langsat' , 'Lekor' , 'Lemang' , 'LepatPisang' , 'LorMee',\n",
    " 'Maggi goreng' , 'Mangosteen' , 'MeeGoreng' , 'MeeHoonKueh' , 'MeeHoonSoup',\n",
    " 'MeeJawa' , 'MeeRebus' , 'MeeRojak' , 'MeeSiam' , 'Murtabak' , 'Murukku',\n",
    " 'NasiGorengKampung' , 'NasiImpit' , 'Nasikandar' , 'Nasilemak' , 'Nasipattaya',\n",
    " 'Ondehondeh' , 'Otakotak' , 'OysterOmelette' , 'PanMee' , 'PineappleTart',\n",
    " 'PisangGoreng' , 'Popiah' , 'PrawnMee' , 'Prawnsambal' , 'Puri' , 'PutuMayam',\n",
    " 'PutuPiring' , 'Rambutan' , 'Rojak' , 'RotiCanai' , 'RotiJala' , 'RotiJohn',\n",
    " 'RotiNaan' , 'RotiTissue' , 'SambalPetai' , 'SambalUdang' , 'Satay' , 'Sataycelup',\n",
    " 'SeriMuka' , 'SotoAyam' , 'TandooriChicken' , 'TangYuan' , 'TauFooFah',\n",
    " 'TauhuSumbat' , 'Thosai' , 'TomYumSoup' , 'Wajik' , 'WanTanMee' , 'WaTanHo' , 'Wonton',\n",
    " 'YamCake' , 'YongTauFu' , 'Youtiao' , 'Yusheng']\n",
    "'''\n",
    "clsNames = ['AisKacang', 'AngKukueh']\n",
    "\n",
    "dataFile = '../dataset/myfood2-227.pkl'\n",
    "\n",
    "# count classes\n",
    "for p in glob(traindir + \"/*\"):\n",
    "    classname = os.path.split(p)[-1]    \n",
    "    classcount += 1\n",
    "    classes[classname] = classcount #/ (classcount + 1)\n",
    "    #print classname\n",
    "print \"Total Class : \", classcount\n",
    "print '\\n'\n",
    "\n",
    "\n",
    "for d in dirs:\n",
    "    print \"Building : \", d\n",
    "    idx=0\n",
    "    \n",
    "    for classname in classes:\n",
    "        check_label = 0\n",
    "        while check_label < classcount:\n",
    "       \n",
    "            if classname == clsNames[check_label] :\n",
    "                labels = check_label\n",
    "                check_label = check_label + 1\n",
    "        #labels = check_label\n",
    "        print classname\n",
    "        print labels\n",
    "        \n",
    "        for imgname in glob(d + '/' + classname + '/*.' + imgtype):\n",
    "    \n",
    "            \n",
    "            \n",
    "            \n",
    "            im = scipy.misc.imresize(scipy.misc.imread(imgname), (227, 227)) \n",
    "            print imgname\n",
    "            #im = Image.open(imgname)\n",
    "            #im = (np.array(im))\n",
    "            r = im[:,:,0].flatten()\n",
    "            g = im[:,:,1].flatten()\n",
    "            b = im[:,:,2].flatten()\n",
    "            \n",
    "            #plt.imshow(img)\n",
    "            #plt.show()\n",
    "            #img = resize(img, (32, 32))\n",
    "            #img = color.rgb2gray(img)\n",
    "            #feature = hog(img, orientations=4, pixels_per_cell=(2, 2), cells_per_block=(1, 1), transform_sqrt=True,visualise=False)\n",
    "            #img=img.convert(\"P\")\n",
    "            #img=filter.canny(img, sigma=1) \n",
    "            if d == '../dataset/food2' and idx == 0:\n",
    "                #trainFeatures = out\n",
    "                out = np.array([[r] + [g] + [b]], np.uint8)\n",
    "                #trainLabels.append(labels)\n",
    "                index_array = np.array([[labels]])\n",
    "            \n",
    "            #elif d == 'food/test' and idx == 0:\n",
    "            #    testFeatures = out\n",
    "            #    testLabels.append(labels)\n",
    "                \n",
    "            else:                  \n",
    "                if d == '../dataset/food2':\n",
    "                    new_array = np.array([[r] + [g] + [b]], np.uint8)\n",
    "                    out = np.append(out, new_array, 0)\n",
    "                    #trainFeatures = np.vstack((trainFeatures, out))\n",
    "                    #trainLabels.append(labels)\n",
    "                    new_index_array = np.array([[labels]], np.int8)\n",
    "                    index_array = np.append(index_array, new_index_array, 0)\n",
    "                    #tf = trainFeatures\n",
    "                    #print len(trainFeatures) \n",
    "                    \n",
    "                #elif d == 'food/test':\n",
    "                #    testFeatures = np.vstack((testFeatures, out))\n",
    "                    #testLabels.append(labels)\n",
    "                \n",
    "            idx+=1\n",
    "\n",
    "#shuffle both train & test set\n",
    "#np.random.shuffle(trainFeatures)\n",
    "#np.random.shuffle(testFeatures)\n",
    "\n",
    "#move label into label list\n",
    "#trainLabels =  [ seq[0] for seq in trainFeatures ]\n",
    "#testLabels = [ seq[0] for seq in testFeatures ]\n",
    "\n",
    "#remove first column of all label\n",
    "#trainFeatures = trainFeatures[:,1:]\n",
    "#testFeatures = testFeatures[:,1:]\n",
    "\n",
    "print \"Total train set: \", len(out)\n",
    "print \"Total train label: \" ,len(index_array)\n",
    "#print \"Total test set: \", len(testFeatures)\n",
    "#print \"Total test label: \" ,len(testLabels)\n",
    "\n",
    "#data={'trainFeatures':trainFeatures, 'trainLabels':  trainLabels, 'testFeatures' : testFeatures, 'testLabels' : testLabels }\n",
    "data={'trainFeatures':out, 'trainLabels':  index_array }\n",
    "\n",
    "pickle.dump((data), open(dataFile, \"wb\" ) )\n",
    "print(\"Dumped pkl into \"+dataFile)\n",
    "\n",
    "#open file\n",
    "#f = open(\"../dataset/food_1600.pkl\", 'rb')\n",
    "\n",
    "#d = pickle.load(f)\n",
    "#data = d['trainFeatures']\n",
    "#labels = d['trainLabels']\n",
    "\n"
   ]
  },
  {
   "cell_type": "code",
   "execution_count": null,
   "metadata": {
    "collapsed": false
   },
   "outputs": [],
   "source": [
    "print \"Total train set: \", len(trainFeatures)\n",
    "print \"Total train label: \" ,len(trainLabels)"
   ]
  },
  {
   "cell_type": "code",
   "execution_count": 7,
   "metadata": {
    "collapsed": true
   },
   "outputs": [],
   "source": [
    "f = open(\"../dataset/myfood10.pkl\", 'rb')\n",
    "d = pickle.load(f)\n",
    "data = d['trainFeatures']\n",
    "labels = d['trainLabels']\n"
   ]
  },
  {
   "cell_type": "code",
   "execution_count": 11,
   "metadata": {
    "collapsed": false
   },
   "outputs": [
    {
     "name": "stdout",
     "output_type": "stream",
     "text": [
      "(150528,)\n"
     ]
    }
   ],
   "source": [
    "labels[800]\n",
    "print data[1].shape"
   ]
  },
  {
   "cell_type": "code",
   "execution_count": 22,
   "metadata": {
    "collapsed": false
   },
   "outputs": [],
   "source": [
    "im = np.reshape(data[4], (224,224,3), order='F')\n",
    "imshow(im)"
   ]
  },
  {
   "cell_type": "code",
   "execution_count": 3,
   "metadata": {
    "collapsed": false
   },
   "outputs": [
    {
     "ename": "NameError",
     "evalue": "name 'np_utils' is not defined",
     "output_type": "error",
     "traceback": [
      "\u001b[0;31m---------------------------------------------------------------------------\u001b[0m",
      "\u001b[0;31mNameError\u001b[0m                                 Traceback (most recent call last)",
      "\u001b[0;32m<ipython-input-3-388622d9c721>\u001b[0m in \u001b[0;36m<module>\u001b[0;34m()\u001b[0m\n\u001b[0;32m----> 1\u001b[0;31m \u001b[0mY_train\u001b[0m \u001b[0;34m=\u001b[0m \u001b[0mnp_utils\u001b[0m\u001b[0;34m.\u001b[0m\u001b[0mto_categorical\u001b[0m\u001b[0;34m(\u001b[0m\u001b[0mdata\u001b[0m\u001b[0;34m,\u001b[0m \u001b[0;36m100\u001b[0m\u001b[0;34m)\u001b[0m\u001b[0;34m\u001b[0m\u001b[0m\n\u001b[0m",
      "\u001b[0;31mNameError\u001b[0m: name 'np_utils' is not defined"
     ]
    }
   ],
   "source": [
    "Y_train = np_utils.to_categorical(data, 100)"
   ]
  },
  {
   "cell_type": "code",
   "execution_count": null,
   "metadata": {
    "collapsed": true
   },
   "outputs": [],
   "source": []
  }
 ],
 "metadata": {
  "anaconda-cloud": {},
  "kernelspec": {
   "display_name": "Python [conda root]",
   "language": "python",
   "name": "conda-root-py"
  },
  "language_info": {
   "codemirror_mode": {
    "name": "ipython",
    "version": 2
   },
   "file_extension": ".py",
   "mimetype": "text/x-python",
   "name": "python",
   "nbconvert_exporter": "python",
   "pygments_lexer": "ipython2",
   "version": "2.7.12"
  }
 },
 "nbformat": 4,
 "nbformat_minor": 1
}
