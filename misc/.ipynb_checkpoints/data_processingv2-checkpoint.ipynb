{
 "cells": [
  {
   "cell_type": "code",
   "execution_count": 1,
   "metadata": {
    "collapsed": false
   },
   "outputs": [
    {
     "name": "stdout",
     "output_type": "stream",
     "text": [
      "0 BingkaUbi\n",
      "1 Bakkukteh\n",
      "2 AngKuKueh\n",
      "3 AisKacang\n",
      "4 Asamlaksa\n",
      "5 Bazhang\n",
      "6 Bahulu\n",
      "7 BeefRendang\n",
      "8 ApamBalik\n",
      "9 BananaLeafRice\n",
      "10\n",
      "Total train set:  2000\n",
      "Total train label:  2000\n",
      "Dumped pkl into ../dataset/myfood10-224.pkl\n"
     ]
    }
   ],
   "source": [
    "from PIL import Image\n",
    "from skimage import color, exposure\n",
    "from skimage.feature import hog\n",
    "from skimage.transform import resize\n",
    "from scipy.misc import imshow\n",
    "from glob import glob\n",
    "import skimage.io as io\n",
    "import numpy as np\n",
    "import scipy.misc\n",
    "import cv2\n",
    "import random\n",
    "import matplotlib.pyplot as plt\n",
    "import os\n",
    "import gzip\n",
    "\n",
    "try:\n",
    "    import cPickle as pickle\n",
    "except:\n",
    "    import pickle\n",
    "\n",
    "#Directory containing images you wish to convert\n",
    "input_dir = \"../dataset/food10\"\n",
    "\n",
    "directories = os.listdir(input_dir)\n",
    "\n",
    "index = 0\n",
    "index2 = 0\n",
    "labels = [] \n",
    "\n",
    "for folder in directories:\n",
    "  #Ignoring .DS_Store dir\n",
    "  if folder == '.DS_Store':\n",
    "    pass\n",
    "\n",
    "  else:\n",
    "    print index, folder\n",
    "\n",
    "    folder2 = os.listdir(input_dir + '/' + folder)\n",
    "\n",
    "\n",
    "    for image in folder2:\n",
    "      if image == \".DS_Store\":\n",
    "        pass\n",
    "\n",
    "      else:\n",
    "        index2 += 1\n",
    "\n",
    "\n",
    "        im = scipy.misc.imresize(scipy.misc.imread(input_dir+\"/\"+folder+\"/\"+image), (224,224)) \n",
    "          #print image\n",
    "        #im = (np.array(im)) #Converting to numpy array\n",
    "\n",
    "        try:\n",
    "          r = im[:,:,0].flatten() #Slicing to get R data\n",
    "          g = im[:,:,1].flatten() #Slicing to get G data\n",
    "          b = im[:,:,2].flatten() #Slicing to get B data\n",
    "\n",
    "          if index2 != 1:\n",
    "            new_array = np.array([[r] + [g] + [b]], np.uint8) #Creating array with shape (3, 100, 100)\n",
    "            out = np.append(out, new_array, 0) #Adding new image to array shape of (x, 3, 100, 100) where x is image number\n",
    "\n",
    "          elif index2 == 1:\n",
    "            out = np.array([[r] + [g] + [b]], np.uint8) #Creating array with shape (3, 100, 100)\n",
    "\n",
    "          if index == 0 and index2 == 1:\n",
    "            index_array = np.array([[index]])\n",
    "            labels.append(index)\n",
    "\n",
    "          else:\n",
    "            new_index_array = np.array([[index]], np.int8)\n",
    "            index_array = np.append(index_array, new_index_array, 0)\n",
    "            labels.append(index)\n",
    "                        \n",
    "        except Exception as e:\n",
    "          print e\n",
    "          print \"Removing image\" + image\n",
    "          os.remove(input_dir+\"/\"+folder+\"/\"+image)\n",
    "    index += 1\n",
    "\n",
    "print index\n",
    "print \"Total train set: \", len(out)\n",
    "print \"Total train label: \" ,len(index_array)\n",
    "\n",
    "dataFile = '../dataset/myfood10-224.pkl'\n",
    "\n",
    "data={'trainFeatures':out, 'trainLabels':  index_array, 'labels': labels }\n",
    "\n",
    "pickle.dump((data), open(dataFile, \"wb\" ) )\n",
    "print(\"Dumped pkl into \"+dataFile)"
   ]
  },
  {
   "cell_type": "code",
   "execution_count": 9,
   "metadata": {
    "collapsed": false
   },
   "outputs": [],
   "source": [
    "f = open(\"../dataset/myfood2-150.pkl\", 'rb')\n",
    "d = pickle.load(f)\n",
    "data = d['trainFeatures']\n",
    "labels = d['trainLabels']\n",
    "labels1 = d['labels']"
   ]
  },
  {
   "cell_type": "code",
   "execution_count": 14,
   "metadata": {
    "collapsed": false
   },
   "outputs": [
    {
     "ename": "RuntimeError",
     "evalue": "Could not execute image viewer.",
     "output_type": "error",
     "traceback": [
      "\u001b[1;31m---------------------------------------------------------------------------\u001b[0m",
      "\u001b[1;31mRuntimeError\u001b[0m                              Traceback (most recent call last)",
      "\u001b[1;32m<ipython-input-14-05ed76d063ce>\u001b[0m in \u001b[0;36m<module>\u001b[1;34m()\u001b[0m\n\u001b[0;32m      1\u001b[0m \u001b[0mim\u001b[0m \u001b[1;33m=\u001b[0m \u001b[0mnp\u001b[0m\u001b[1;33m.\u001b[0m\u001b[0mreshape\u001b[0m\u001b[1;33m(\u001b[0m\u001b[0mdata\u001b[0m\u001b[1;33m[\u001b[0m\u001b[1;36m1\u001b[0m\u001b[1;33m]\u001b[0m\u001b[1;33m,\u001b[0m \u001b[1;33m(\u001b[0m\u001b[1;36m3\u001b[0m\u001b[1;33m,\u001b[0m\u001b[1;36m150\u001b[0m\u001b[1;33m,\u001b[0m\u001b[1;36m150\u001b[0m\u001b[1;33m)\u001b[0m\u001b[1;33m,\u001b[0m \u001b[0morder\u001b[0m\u001b[1;33m=\u001b[0m\u001b[1;34m'F'\u001b[0m\u001b[1;33m)\u001b[0m\u001b[1;33m\u001b[0m\u001b[0m\n\u001b[1;32m----> 2\u001b[1;33m \u001b[0mimshow\u001b[0m\u001b[1;33m(\u001b[0m\u001b[0mim\u001b[0m\u001b[1;33m)\u001b[0m\u001b[1;33m\u001b[0m\u001b[0m\n\u001b[0m",
      "\u001b[1;32mC:\\Users\\jack5\\Anaconda2\\lib\\site-packages\\scipy\\misc\\pilutil.pyc\u001b[0m in \u001b[0;36mimshow\u001b[1;34m(arr)\u001b[0m\n\u001b[0;32m    440\u001b[0m \u001b[1;33m\u001b[0m\u001b[0m\n\u001b[0;32m    441\u001b[0m     \u001b[0mos\u001b[0m\u001b[1;33m.\u001b[0m\u001b[0munlink\u001b[0m\u001b[1;33m(\u001b[0m\u001b[0mfname\u001b[0m\u001b[1;33m)\u001b[0m\u001b[1;33m\u001b[0m\u001b[0m\n\u001b[1;32m--> 442\u001b[1;33m     \u001b[1;32mif\u001b[0m \u001b[0mstatus\u001b[0m \u001b[1;33m!=\u001b[0m \u001b[1;36m0\u001b[0m\u001b[1;33m:\u001b[0m\u001b[1;33m\u001b[0m\u001b[0m\n\u001b[0m\u001b[0;32m    443\u001b[0m         \u001b[1;32mraise\u001b[0m \u001b[0mRuntimeError\u001b[0m\u001b[1;33m(\u001b[0m\u001b[1;34m'Could not execute image viewer.'\u001b[0m\u001b[1;33m)\u001b[0m\u001b[1;33m\u001b[0m\u001b[0m\n\u001b[0;32m    444\u001b[0m \u001b[1;33m\u001b[0m\u001b[0m\n",
      "\u001b[1;31mRuntimeError\u001b[0m: Could not execute image viewer."
     ]
    }
   ],
   "source": [
    "im = np.reshape(data[1], (3,150,150), order='F')\n",
    "imshow(im)"
   ]
  },
  {
   "cell_type": "code",
   "execution_count": null,
   "metadata": {
    "collapsed": true
   },
   "outputs": [],
   "source": []
  }
 ],
 "metadata": {
  "anaconda-cloud": {},
  "kernelspec": {
   "display_name": "Python [default]",
   "language": "python",
   "name": "python2"
  },
  "language_info": {
   "codemirror_mode": {
    "name": "ipython",
    "version": 2
   },
   "file_extension": ".py",
   "mimetype": "text/x-python",
   "name": "python",
   "nbconvert_exporter": "python",
   "pygments_lexer": "ipython2",
   "version": "2.7.10"
  }
 },
 "nbformat": 4,
 "nbformat_minor": 1
}
