{
 "cells": [
  {
   "cell_type": "code",
   "execution_count": 2,
   "metadata": {
    "collapsed": false,
    "scrolled": true
   },
   "outputs": [
    {
     "name": "stdout",
     "output_type": "stream",
     "text": [
      "0 AngKuKueh\n",
      "1 AisKacang\n",
      "2 Asamlaksa\n",
      "3 ApamBalik\n",
      "4\n",
      "Total train set:  800\n",
      "Total train label:  800\n",
      "Dumped pkl into ../dataset/myfood4-224.hkl\n"
     ]
    }
   ],
   "source": [
    "from PIL import Image\n",
    "from skimage import color, exposure\n",
    "from skimage.feature import hog\n",
    "from skimage.transform import resize\n",
    "from scipy.misc import imshow\n",
    "from glob import glob\n",
    "import skimage.io as io\n",
    "import numpy as np\n",
    "import scipy.misc\n",
    "import cv2\n",
    "import random\n",
    "import matplotlib.pyplot as plt\n",
    "import os\n",
    "import gzip\n",
    "import hickle as hkl\n",
    "\n",
    "#Directory containing images you wish to convert\n",
    "input_dir = \"../dataset/food4\"\n",
    "dataFile = '../dataset/myfood4-224.hkl'\n",
    "directories = os.listdir(input_dir)\n",
    "\n",
    "index = 0\n",
    "index2 = 0\n",
    "labels = [] \n",
    "\n",
    "for folder in directories:\n",
    "  #Ignoring .DS_Store dir\n",
    "  if folder == '.DS_Store':\n",
    "    pass\n",
    "\n",
    "  else:\n",
    "    print index, folder\n",
    "\n",
    "    folder2 = os.listdir(input_dir + '/' + folder)\n",
    "\n",
    "\n",
    "    for image in folder2:\n",
    "      if image == \".DS_Store\":\n",
    "        pass\n",
    "\n",
    "      else:\n",
    "        index2 += 1\n",
    "\n",
    "\n",
    "        im = scipy.misc.imresize(scipy.misc.imread(input_dir+\"/\"+folder+\"/\"+image), (224,224)) \n",
    "          #print image\n",
    "        #im = (np.array(im)) #Converting to numpy array\n",
    "\n",
    "        try:\n",
    "          r = im[:,:,0].flatten() #Slicing to get R data\n",
    "          g = im[:,:,1].flatten() #Slicing to get G data\n",
    "          b = im[:,:,2].flatten() #Slicing to get B data\n",
    "\n",
    "          if index2 != 1:\n",
    "            new_array = np.array([[r] + [g] + [b]], np.uint8) #Creating array with shape (3, 100, 100)\n",
    "            out = np.append(out, new_array, 0) #Adding new image to array shape of (x, 3, 100, 100) where x is image number\n",
    "\n",
    "          elif index2 == 1:\n",
    "            out = np.array([[r] + [g] + [b]], np.uint8) #Creating array with shape (3, 100, 100)\n",
    "\n",
    "          if index == 0 and index2 == 1:\n",
    "            index_array = np.array([[index]])\n",
    "            labels.append(index)\n",
    "\n",
    "          else:\n",
    "            new_index_array = np.array([[index]], np.int8)\n",
    "            index_array = np.append(index_array, new_index_array, 0)\n",
    "            labels.append(index)\n",
    "                        \n",
    "        except Exception as e:\n",
    "          print e\n",
    "          print \"Removing image\" + image\n",
    "          os.remove(input_dir+\"/\"+folder+\"/\"+image)\n",
    "    index += 1\n",
    "\n",
    "print index\n",
    "print \"Total train set: \", len(out)\n",
    "print \"Total train label: \" ,len(index_array)\n",
    "\n",
    "data={'trainFeatures':out, 'trainLabels':  index_array, 'labels': labels }\n",
    "hkl.dump(data, dataFile, mode='w')\n",
    "print(\"Dumped pkl into \"+dataFile)"
   ]
  },
  {
   "cell_type": "code",
   "execution_count": null,
   "metadata": {
    "collapsed": true
   },
   "outputs": [],
   "source": []
  }
 ],
 "metadata": {
  "anaconda-cloud": {},
  "kernelspec": {
   "display_name": "Python [conda root]",
   "language": "python",
   "name": "conda-root-py"
  },
  "language_info": {
   "codemirror_mode": {
    "name": "ipython",
    "version": 2
   },
   "file_extension": ".py",
   "mimetype": "text/x-python",
   "name": "python",
   "nbconvert_exporter": "python",
   "pygments_lexer": "ipython2",
   "version": "2.7.10"
  }
 },
 "nbformat": 4,
 "nbformat_minor": 1
}
