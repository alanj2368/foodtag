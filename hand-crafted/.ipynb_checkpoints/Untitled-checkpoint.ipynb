{
 "cells": [
  {
   "cell_type": "code",
   "execution_count": 2,
   "metadata": {
    "collapsed": false
   },
   "outputs": [
    {
     "name": "stdout",
     "output_type": "stream",
     "text": [
      "Loading data..\n",
      "Data loaded !\n",
      "Test train Shape: \n",
      "(1000, 4096)\n",
      "(1000, 4096)\n",
      "Running Fold 1 / 2\n",
      "\n",
      "Training SVM..\n",
      "SVM acc: : 41.40%\n",
      "Test train Shape: \n",
      "(1000, 4096)\n",
      "(1000, 4096)\n",
      "Running Fold 2 / 2\n",
      "\n",
      "Training SVM..\n",
      "SVM acc: : 41.20%\n",
      "Average acc : 41.30%\n"
     ]
    }
   ],
   "source": [
    "from sklearn.metrics import classification_report\n",
    "from sklearn.cross_validation import StratifiedKFold\n",
    "\n",
    "\n",
    "import matplotlib.pyplot as plt\n",
    "from sklearn.metrics import classification_report,confusion_matrix\n",
    "from sklearn import svm\n",
    "\n",
    "import h5py as h5\n",
    "import numpy as np\n",
    "import time\n",
    "import hickle as hkl\n",
    "\n",
    "fold_count = 1\n",
    "\n",
    "def load_data():\n",
    "    # load your data using this function\n",
    "    d = hkl.load(\"../dataset/rgb_food10_640_32bins.hkl\")\n",
    "    data = d['trainFeatures']\n",
    "    labels = d['trainLabels']\n",
    "    lz = d['labels']\n",
    "    #data = data.reshape(data.shape[0], 3, 227, 227)\n",
    "    #data = data.transpose(0, 2, 3, 1)\n",
    "    return data,labels,lz\n",
    "\n",
    "# SVM classification\n",
    "def train_svm(X_train, X_test, y_train, y_test):\n",
    " \n",
    "    print \"\\nTraining SVM..\"\n",
    "    clf = svm.SVC(kernel='linear', gamma=0.7, C=1.0)\n",
    "\n",
    "    clf.fit(X_train, y_train)\n",
    "    #y_pred = clf.predict(test_data)\n",
    "    score = clf.score(X_test, y_test)\n",
    "    print(\"SVM %s: %.2f%%\" % (\"acc: \", score*100))\n",
    "\n",
    "    y_pred = clf.predict(X_test)\n",
    "\n",
    "\n",
    "    return score\n",
    "\n",
    "if __name__ == \"__main__\":\n",
    "    n_folds = 2\n",
    "    total_scores = 0\n",
    "\n",
    "    print \"Loading data..\"\n",
    "    data, labels, lz = load_data()\n",
    "    data = np.array(data)\n",
    "    print \"Data loaded !\"\n",
    "\n",
    "    skf = StratifiedKFold(y=lz, n_folds=n_folds, shuffle=False)\n",
    "\n",
    "    for i, (train, test) in enumerate(skf):\n",
    "        print \"Test train Shape: \"\n",
    "        print data[train].shape\n",
    "        print data[test].shape\n",
    "        print (\"Running Fold %d / %d\" % (i+1, n_folds))\n",
    "\n",
    "        svm_scores = train_svm(data[train], data[test], labels[train], labels[test])\n",
    "\n",
    "        total_scores = total_scores + svm_scores\n",
    "        fold_count = fold_count + 1\n",
    "    print(\"Average acc : %.2f%%\" % (total_scores/n_folds*100))\n"
   ]
  },
  {
   "cell_type": "code",
   "execution_count": null,
   "metadata": {
    "collapsed": true
   },
   "outputs": [],
   "source": []
  }
 ],
 "metadata": {
  "kernelspec": {
   "display_name": "Python [conda root]",
   "language": "python",
   "name": "conda-root-py"
  },
  "language_info": {
   "codemirror_mode": {
    "name": "ipython",
    "version": 2
   },
   "file_extension": ".py",
   "mimetype": "text/x-python",
   "name": "python",
   "nbconvert_exporter": "python",
   "pygments_lexer": "ipython2",
   "version": "2.7.10"
  }
 },
 "nbformat": 4,
 "nbformat_minor": 1
}
